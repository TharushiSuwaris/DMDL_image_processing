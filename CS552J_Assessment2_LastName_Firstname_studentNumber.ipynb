{
 "cells": [
  {
   "cell_type": "code",
   "execution_count": 10,
   "id": "c9758951",
   "metadata": {},
   "outputs": [],
   "source": [
    "import pandas as pd\n",
    "import requests\n",
    "import os\n",
    "\n",
    "df = pd.read_csv('cs552j_A1_dataset_image_id_url.csv')"
   ]
  },
  {
   "cell_type": "code",
   "execution_count": 6,
   "id": "ad62b48a",
   "metadata": {},
   "outputs": [],
   "source": [
    "# Folder where you want to save the image\n",
    "save_folder = \"a1_images\"\n",
    "os.makedirs(save_folder, exist_ok=True)"
   ]
  },
  {
   "cell_type": "code",
   "execution_count": 8,
   "id": "a0f84014",
   "metadata": {},
   "outputs": [],
   "source": [
    "def download_image(image_url, save_folder):\n",
    "    image_name = os.path.join(save_folder, image_url.split(\"/\")[-1])\n",
    "    response = requests.get(image_url)\n",
    "    if response.status_code == 200:\n",
    "        with open(image_name, \"wb\") as file:\n",
    "            file.write(response.content)\n",
    "        print(f\"Image saved at: {image_name}\")\n",
    "    else:\n",
    "        print(\"Failed to download image\")"
   ]
  },
  {
   "cell_type": "code",
   "execution_count": 12,
   "id": "cd50d687",
   "metadata": {},
   "outputs": [],
   "source": [
    "# # downloads all the images to your computer. Do this only once locally, then you can continue.\n",
    "\n",
    "for i in df.coco_url.values:\n",
    "    download_image(i, save_folder)"
   ]
  },
  {
   "cell_type": "markdown",
   "id": "e49b8f24",
   "metadata": {},
   "source": [
    "# Your Assessment code below\n",
    "\n",
    "- please make good use of markdown to separate the sections. "
   ]
  },
  {
   "cell_type": "code",
   "execution_count": null,
   "id": "945a71ad",
   "metadata": {},
   "outputs": [],
   "source": []
  }
 ],
 "metadata": {
  "kernelspec": {
   "display_name": "Python 3 (ipykernel)",
   "language": "python",
   "name": "python3"
  },
  "language_info": {
   "codemirror_mode": {
    "name": "ipython",
    "version": 3
   },
   "file_extension": ".py",
   "mimetype": "text/x-python",
   "name": "python",
   "nbconvert_exporter": "python",
   "pygments_lexer": "ipython3",
   "version": "3.9.6"
  }
 },
 "nbformat": 4,
 "nbformat_minor": 5
}
