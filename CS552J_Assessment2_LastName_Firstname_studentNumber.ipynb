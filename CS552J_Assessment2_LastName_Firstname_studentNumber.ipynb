{
 "cells": [
  {
   "cell_type": "code",
   "execution_count": 1,
   "id": "c9758951",
   "metadata": {},
   "outputs": [],
   "source": [
    "import pandas as pd\n",
    "import requests\n",
    "import os\n",
    "\n",
    "df = pd.read_csv('cs552j_A1_dataset_image_id_url.csv')"
   ]
  },
  {
   "cell_type": "code",
   "execution_count": 6,
   "id": "ad62b48a",
   "metadata": {},
   "outputs": [],
   "source": [
    "# Folder where you want to save the image\n",
    "save_folder = \"a1_images\"\n",
    "os.makedirs(save_folder, exist_ok=True)"
   ]
  },
  {
   "cell_type": "code",
   "execution_count": 8,
   "id": "a0f84014",
   "metadata": {},
   "outputs": [],
   "source": [
    "def download_image(image_url, save_folder):\n",
    "    image_name = os.path.join(save_folder, image_url.split(\"/\")[-1])\n",
    "    response = requests.get(image_url)\n",
    "    if response.status_code == 200:\n",
    "        with open(image_name, \"wb\") as file:\n",
    "            file.write(response.content)\n",
    "        print(f\"Image saved at: {image_name}\")\n",
    "    else:\n",
    "        print(\"Failed to download image\")"
   ]
  },
  {
   "cell_type": "code",
   "execution_count": 12,
   "id": "cd50d687",
   "metadata": {},
   "outputs": [],
   "source": [
    "# # downloads all the images to your computer. Do this only once locally, then you can continue.\n",
    "\n",
    "for i in df.coco_url.values:\n",
    "    download_image(i, save_folder)"
   ]
  },
  {
   "cell_type": "markdown",
   "id": "e49b8f24",
   "metadata": {},
   "source": [
    "# Your Assessment code below\n",
    "\n",
    "- please make good use of markdown to separate the sections. "
   ]
  },
  {
   "cell_type": "code",
   "execution_count": 20,
   "id": "4a5d48dd",
   "metadata": {},
   "outputs": [],
   "source": [
    "train_path = os.path.join('Datasets', \"Training_Data\")\n",
    "test_path = os.path.join('Datasets', \"Testing_Data\")\n",
    "os.makedirs(train_path, exist_ok=True)\n",
    "os.makedirs(test_path, exist_ok=True)"
   ]
  },
  {
   "cell_type": "code",
   "execution_count": 14,
   "id": "945a71ad",
   "metadata": {},
   "outputs": [],
   "source": [
    "#train test split\n",
    "from sklearn.model_selection import train_test_split\n",
    "import shutil"
   ]
  },
  {
   "cell_type": "code",
   "execution_count": 5,
   "id": "fbd10d79",
   "metadata": {},
   "outputs": [
    {
     "name": "stdout",
     "output_type": "stream",
     "text": [
      "label\n",
      "walking_running    98\n",
      "sitting            95\n",
      "standing           92\n",
      "Name: count, dtype: int64\n"
     ]
    }
   ],
   "source": [
    "print(df[\"label\"].value_counts())"
   ]
  },
  {
   "cell_type": "code",
   "execution_count": 12,
   "id": "34a04c6c",
   "metadata": {},
   "outputs": [
    {
     "data": {
      "text/html": [
       "<div>\n",
       "<style scoped>\n",
       "    .dataframe tbody tr th:only-of-type {\n",
       "        vertical-align: middle;\n",
       "    }\n",
       "\n",
       "    .dataframe tbody tr th {\n",
       "        vertical-align: top;\n",
       "    }\n",
       "\n",
       "    .dataframe thead th {\n",
       "        text-align: right;\n",
       "    }\n",
       "</style>\n",
       "<table border=\"1\" class=\"dataframe\">\n",
       "  <thead>\n",
       "    <tr style=\"text-align: right;\">\n",
       "      <th></th>\n",
       "      <th>Unnamed: 0</th>\n",
       "      <th>license</th>\n",
       "      <th>file_name</th>\n",
       "      <th>coco_url</th>\n",
       "      <th>height</th>\n",
       "      <th>width</th>\n",
       "      <th>date_captured</th>\n",
       "      <th>flickr_url</th>\n",
       "      <th>id</th>\n",
       "      <th>label</th>\n",
       "    </tr>\n",
       "  </thead>\n",
       "  <tbody>\n",
       "    <tr>\n",
       "      <th>0</th>\n",
       "      <td>2</td>\n",
       "      <td>4</td>\n",
       "      <td>000000252219.jpg</td>\n",
       "      <td>http://images.cocodataset.org/val2017/00000025...</td>\n",
       "      <td>428</td>\n",
       "      <td>640</td>\n",
       "      <td>2013-11-14 22:32:02</td>\n",
       "      <td>http://farm4.staticflickr.com/3446/3232237447_...</td>\n",
       "      <td>252219</td>\n",
       "      <td>walking_running</td>\n",
       "    </tr>\n",
       "    <tr>\n",
       "      <th>1</th>\n",
       "      <td>11</td>\n",
       "      <td>1</td>\n",
       "      <td>000000386912.jpg</td>\n",
       "      <td>http://images.cocodataset.org/val2017/00000038...</td>\n",
       "      <td>480</td>\n",
       "      <td>640</td>\n",
       "      <td>2013-11-15 16:38:19</td>\n",
       "      <td>http://farm5.staticflickr.com/4088/4980393979_...</td>\n",
       "      <td>386912</td>\n",
       "      <td>sitting</td>\n",
       "    </tr>\n",
       "    <tr>\n",
       "      <th>2</th>\n",
       "      <td>27</td>\n",
       "      <td>3</td>\n",
       "      <td>000000308394.jpg</td>\n",
       "      <td>http://images.cocodataset.org/val2017/00000030...</td>\n",
       "      <td>428</td>\n",
       "      <td>640</td>\n",
       "      <td>2013-11-17 03:48:10</td>\n",
       "      <td>http://farm4.staticflickr.com/3152/2818802025_...</td>\n",
       "      <td>308394</td>\n",
       "      <td>sitting</td>\n",
       "    </tr>\n",
       "  </tbody>\n",
       "</table>\n",
       "</div>"
      ],
      "text/plain": [
       "   Unnamed: 0  license         file_name  \\\n",
       "0           2        4  000000252219.jpg   \n",
       "1          11        1  000000386912.jpg   \n",
       "2          27        3  000000308394.jpg   \n",
       "\n",
       "                                            coco_url  height  width  \\\n",
       "0  http://images.cocodataset.org/val2017/00000025...     428    640   \n",
       "1  http://images.cocodataset.org/val2017/00000038...     480    640   \n",
       "2  http://images.cocodataset.org/val2017/00000030...     428    640   \n",
       "\n",
       "         date_captured                                         flickr_url  \\\n",
       "0  2013-11-14 22:32:02  http://farm4.staticflickr.com/3446/3232237447_...   \n",
       "1  2013-11-15 16:38:19  http://farm5.staticflickr.com/4088/4980393979_...   \n",
       "2  2013-11-17 03:48:10  http://farm4.staticflickr.com/3152/2818802025_...   \n",
       "\n",
       "       id            label  \n",
       "0  252219  walking_running  \n",
       "1  386912          sitting  \n",
       "2  308394          sitting  "
      ]
     },
     "execution_count": 12,
     "metadata": {},
     "output_type": "execute_result"
    }
   ],
   "source": [
    "df.head(3)"
   ]
  },
  {
   "cell_type": "code",
   "execution_count": null,
   "id": "5ae64991",
   "metadata": {},
   "outputs": [],
   "source": [
    "train_df, test_df = train_test_split(df, test_size=0.2, stratify=df[\"label\"], random_state=42)"
   ]
  },
  {
   "cell_type": "code",
   "execution_count": 22,
   "id": "7d427992",
   "metadata": {},
   "outputs": [],
   "source": [
    "\n",
    "\n",
    "# Function to copy images to the destination folder\n",
    "def save_images(image_list, destination_folder):\n",
    "    for _, row in image_list.iterrows():\n",
    "        src_path = os.path.join('images', row[\"file_name\"])  # Source path\n",
    "        # print(src_path)\n",
    "        dst_path = os.path.join(destination_folder, row[\"file_name\"])  # Destination path\n",
    "        if os.path.exists(src_path):  # Ensure the file exists\n",
    "            shutil.copy(src_path, dst_path)\n",
    "\n",
    "# Save images\n",
    "save_images(train_df, train_path)\n",
    "save_images(test_df, test_path)"
   ]
  }
 ],
 "metadata": {
  "kernelspec": {
   "display_name": "base",
   "language": "python",
   "name": "python3"
  },
  "language_info": {
   "codemirror_mode": {
    "name": "ipython",
    "version": 3
   },
   "file_extension": ".py",
   "mimetype": "text/x-python",
   "name": "python",
   "nbconvert_exporter": "python",
   "pygments_lexer": "ipython3",
   "version": "3.12.4"
  }
 },
 "nbformat": 4,
 "nbformat_minor": 5
}
